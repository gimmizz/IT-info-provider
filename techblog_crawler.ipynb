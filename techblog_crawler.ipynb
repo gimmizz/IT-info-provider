{
 "cells": [
  {
   "cell_type": "code",
   "execution_count": 1,
   "metadata": {},
   "outputs": [
    {
     "name": "stdout",
     "output_type": "stream",
     "text": [
      "Requirement already satisfied: pip in c:\\users\\sdn11\\anaconda\\lib\\site-packages (21.0.1)\n",
      "Note: you may need to restart the kernel to use updated packages.\n"
     ]
    }
   ],
   "source": [
    "pip install --upgrade pip"
   ]
  },
  {
   "cell_type": "code",
   "execution_count": 2,
   "metadata": {},
   "outputs": [
    {
     "name": "stdout",
     "output_type": "stream",
     "text": [
      "Requirement already satisfied: selenium in c:\\users\\sdn11\\anaconda\\lib\\site-packages (3.141.0)\n",
      "Requirement already satisfied: urllib3 in c:\\users\\sdn11\\anaconda\\lib\\site-packages (from selenium) (1.22)\n",
      "Note: you may need to restart the kernel to use updated packages.\n"
     ]
    }
   ],
   "source": [
    "pip install selenium"
   ]
  },
  {
   "cell_type": "code",
   "execution_count": 3,
   "metadata": {},
   "outputs": [],
   "source": [
    "import requests\n",
    "from selenium import webdriver"
   ]
  },
  {
   "cell_type": "code",
   "execution_count": null,
   "metadata": {},
   "outputs": [],
   "source": [
    "driver = webdriver.Chrome('C:\\Users\\sdn11\\Git\\IT-info-provider\\chromedriver')\n",
    "driver.implicitly_wait(3) # 암묵적으로 웹 자원 로드를 위해 3초 wait"
   ]
  },
  {
   "cell_type": "code",
   "execution_count": 43,
   "metadata": {},
   "outputs": [
    {
     "name": "stdout",
     "output_type": "stream",
     "text": [
      "5\n",
      "드루와 드루와!! 카카오톡 개발자의 신년대응 스토리\n",
      "FE개발자의 성장 스토리 06 : 2021년 Chrome의 새로운 변화 – Schemeful same-site을 대응하자\n",
      "2021 카카오 신입공채 1차 온라인 코딩 테스트 for Tech developers 문제해설\n",
      "증오발언 근절을 위한 카카오의 원칙\n",
      "FE개발자의 성장 스토리 05 : 의존관계를 이용해 구조적 리팩토링 포인트 찾기\n"
     ]
    }
   ],
   "source": [
    "import requests\n",
    "from bs4 import BeautifulSoup\n",
    "\n",
    "from collections import OrderedDict\n",
    "\n",
    "data = []\n",
    "\n",
    "# 1페이지 처리\n",
    "raw = requests.get('http://tech.kakao.com/blog').text\n",
    "# print(raw)\n",
    "html = BeautifulSoup(raw, 'html.parser')\n",
    "# print(html)\n",
    "\n",
    "# #posts > div > div.wrap_post > ul\n",
    "tags = html.select('ul.list_post > li') \n",
    "print(len(tags))\n",
    "\n",
    "for tag in tags:\n",
    "    kakao_temp = OrderedDict()\n",
    "    print(tag.select('strong.tit_post')[0].text)"
   ]
  },
  {
   "cell_type": "code",
   "execution_count": 67,
   "metadata": {},
   "outputs": [
    {
     "name": "stdout",
     "output_type": "stream",
     "text": [
      "5\n",
      "OrderedDict([('comp', 'kakao'), ('title', '드루와 드루와!! 카카오톡 개발자의 신년대응 스토리'), ('date', '2021.02.08'), ('text', ' 따듯한 마음을 담아 새해 인사를 나눌 준비를 하는 2020년 12월 31일 늦은 시각, 카카오 판교 오피스에는 초긴장 상태의 카카오톡 개발자들이 있었습니다. 매해 연말마다 진행하는 일이지만 매년 상상할 수 없는 트래픽 폭증으로 새해를 맞이하는 카카오톡 개발자들, 전 국민의 사랑을 받는 서비스인만큼 부담감도 크지만 보다 더 큰 보람과 사명감을 느낍니다. 지난 한 해를 위로하고 새로운 시작을 응원하기 […]'), ('link', 'https://tech.kakao.com/2021/02/08/kakaotalk-new-year/')])\n",
      "OrderedDict([('comp', 'kakao'), ('title', 'FE개발자의 성장 스토리 06 : 2021년 Chrome의 새로운 변화 – Schemeful same-site을 대응하자'), ('date', '2021.02.02'), ('text', ' 안녕하세요. FE플랫폼팀 피터입니다 🙂 제가 소속된 FE플랫폼팀에서는 Chrome 업데이트 사항 중 사용자에게 영향을 미치는 기능을 리서치 후 사내 크루들에게 공유하고는 합니다. 이번에는 2021년 1월부터 업데이트되는 Chrome M88에 적용될 Schemeful same-site를 사내 크루들에게 공유하였는데요, Schemeful same-site는 같은 도메인의 HTTP 사이트와 HTTPS 사이트를 cross-site로 취급하도록 정책을 변경한 내용입니다. 관련해서 공식 문서를 통해 리서치한 내용을 공유 드리고자 합니다. […]'), ('link', 'https://tech.kakao.com/2021/02/02/frontend-growth-06/')])\n",
      "OrderedDict([('comp', 'kakao'), ('title', '2021 카카오 신입공채 1차 온라인 코딩 테스트 for Tech developers 문제해설'), ('date', '2021.01.25'), ('text', ' 지난 2020년 9월 12일 토요일 오후 2시부터 7시까지 5시간 동안 2021 카카오 신입 개발자 공채 1차 코딩 테스트가 진행되었습니다. 테스트에는 총 7개의 문제가 출제되었으며, 개발 언어는 C++, Java, JavaScript, Kotlin, Python, Swift 총 6가지가 제공되었습니다. 문제는 난이도가 낮은 것부터 높은 순으로 배치하였으며 모든 문제는 테스트 케이스를 모두 통과해야 풀이한 것으로 인정되고 부문 점수는 부여되지 않았습니다. […]'), ('link', 'https://tech.kakao.com/2021/01/25/2021-kakao-recruitment-round-1/')])\n",
      "OrderedDict([('comp', 'kakao'), ('title', '증오발언 근절을 위한 카카오의 원칙'), ('date', '2021.01.18'), ('text', ' 이 글은\\xa0증오발언 근절을 위한 카카오의 원칙 이라는 이름으로 카카오 정책산업 연구 브런치에 동시에 개제되었습니다. 1. 원칙 수립 배경과 원칙 내용 카카오는 ‘기술과 사람으로 더 나은 세상을 만들겠다’는 비전으로 ‘기업의 디지털 책임(CDR, Corporate Digital Responsibility)’ 실천 방안을 고민하고 있습니다.\\xa0 온라인\\xa0증오발언이 사회적 문제로 부상함에 따라 그 대응책을 마련할\\xa0필요성에 대해 국내외\\xa0공감대가 넓어지고 있습니다. 카카오 역시 사회의 구성원으로서,\\xa0디지털 공간을 […]'), ('link', 'https://tech.kakao.com/2021/01/18/%ec%a6%9d%ec%98%a4%eb%b0%9c%ec%96%b8-%ea%b7%bc%ec%a0%88%ec%9d%84-%ec%9c%84%ed%95%9c-%ec%b9%b4%ec%b9%b4%ec%98%a4%ec%9d%98-%ec%9b%90%ec%b9%99/')])\n",
      "OrderedDict([('comp', 'kakao'), ('title', 'FE개발자의 성장 스토리 05 : 의존관계를 이용해 구조적 리팩토링 포인트 찾기'), ('date', '2021.01.12'), ('text', ' 안녕하세요, FE플랫폼팀 frey 입니다. 작년 초부터 카카오 i오픈빌더(이하 오픈빌더)의 Front-end 개발을 담당하고 있습니다. 앵귤러(Angular)를 기반으로 개발된 오픈빌더는 많은 담당자의 손을 거쳐 제작, 운영되어 왔습니다. 오픈빌더 업무를 진행하면서 잘 정리된 여러 문서와 코드 구조를 통해 설계 구조와 의도를 파악할 수 있었지만, 마치 구전동화가 수많은 선조들의 입에서 입으로 전해진 것처럼, 오픈빌더 또한 여러 개발자들의 손과 손을 거쳐 […]'), ('link', 'https://tech.kakao.com/2021/01/12/frontend-growth-05/')])\n"
     ]
    }
   ],
   "source": [
    "import requests\n",
    "from bs4 import BeautifulSoup\n",
    "\n",
    "from collections import OrderedDict\n",
    "\n",
    "data = []\n",
    "\n",
    "# 1페이지 처리\n",
    "raw = requests.get('http://tech.kakao.com/blog').text\n",
    "# print(raw)\n",
    "html = BeautifulSoup(raw, 'html.parser')\n",
    "# print(html)\n",
    "\n",
    "# #posts > div > div.wrap_post > ul\n",
    "tags = html.select('ul.list_post > li') \n",
    "print(len(tags))\n",
    "\n",
    "for tag in tags:\n",
    "    kakao_temp = OrderedDict()\n",
    "    \n",
    "    kakao_temp[\"comp\"] = \"kakao\"\n",
    "    kakao_temp[\"title\"] = tag.select('strong.tit_post')[0].text\n",
    "    kakao_temp[\"date\"] = tag.select('span.txt_date')[0].text\n",
    "    kakao_temp[\"text\"] = tag.select('p.desc_post')[0].text\n",
    "#     kakao_temp[\"thumb_img\"] = \n",
    "    kakao_temp[\"link\"] = tag.select('a[href]')[0].get('href')\n",
    "#     kakao_temp[\"tag\"] = \n",
    "    print(kakao_temp)\n",
    "    data.append(kakao_temp)\n",
    "\n",
    "    \n",
    "# # 2~10페이지 처리\n",
    "# for page in range(1, 11):\n",
    "#     raw = requests.get('http://tech.kakao.com/page/' + str(page)).text\n",
    "#     html = BeautifulSoup(raw, 'html.parser')\n",
    "\n",
    "#     tags = html.select('a.tag')\n",
    "\n",
    "#     for tag in tags:\n",
    "#         print(tag.text)"
   ]
  },
  {
   "cell_type": "code",
   "execution_count": 21,
   "metadata": {
    "scrolled": true
   },
   "outputs": [
    {
     "name": "stdout",
     "output_type": "stream",
     "text": [
      "Collecting kafka-python\n",
      "  Downloading kafka_python-2.0.2-py2.py3-none-any.whl (246 kB)\n",
      "Installing collected packages: kafka-python\n",
      "Successfully installed kafka-python-2.0.2\n",
      "Note: you may need to restart the kernel to use updated packages.\n"
     ]
    }
   ],
   "source": [
    "pip install kafka-python"
   ]
  },
  {
   "cell_type": "code",
   "execution_count": 72,
   "metadata": {
    "scrolled": true
   },
   "outputs": [
    {
     "name": "stdout",
     "output_type": "stream",
     "text": [
      "elapsed : 0.3913118839263916\n"
     ]
    }
   ],
   "source": [
    "from kafka import KafkaProducer \n",
    "from json import dumps \n",
    "import time \n",
    "producer = KafkaProducer(acks=0, compression_type='gzip', bootstrap_servers=['3.87.162.90:9092']\n",
    "                                     , value_serializer=lambda x: dumps(x).encode('utf-8')) \n",
    "\n",
    "start = time.time() \n",
    "for i in range(len(data)): \n",
    "#     data = {'str' : 'result'+str(i)} \n",
    "    producer.send('test3', value=data[i]) \n",
    "    producer.flush() \n",
    "    \n",
    "print(\"elapsed :\", time.time() - start)\n"
   ]
  },
  {
   "cell_type": "code",
   "execution_count": 60,
   "metadata": {},
   "outputs": [
    {
     "name": "stdout",
     "output_type": "stream",
     "text": [
      "elapsed : 0.38668012619018555\n"
     ]
    }
   ],
   "source": [
    "from kafka import KafkaProducer \n",
    "from json import dumps \n",
    "import time \n",
    "producer = KafkaProducer(acks=0, compression_type='gzip', bootstrap_servers=['3.87.162.90:9092']\n",
    "                                     , value_serializer=lambda x: dumps(x).encode('utf-8')) \n",
    "\n",
    "start = time.time() \n",
    "for i in range(len(data)): \n",
    "    data = {'str' : 'result'+str(i)} \n",
    "    producer.send('test2', value=data) \n",
    "    producer.flush() \n",
    "    \n",
    "print(\"elapsed :\", time.time() - start)\n"
   ]
  },
  {
   "cell_type": "code",
   "execution_count": 74,
   "metadata": {},
   "outputs": [
    {
     "name": "stdout",
     "output_type": "stream",
     "text": [
      "[begin] get consumer list\n",
      "Topic: test3, Partition: 0, Offset: 0, Key: None, Value: {'comp': 'kakao', 'title': '2021 카카오 신입공채 1차 온라인 코딩 테스트 for Tech developers 문제해설', 'date': '2021.01.25', 'text': ' 지난 2020년 9월 12일 토요일 오후 2시부터 7시까지 5시간 동안 2021 카카오 신입 개발자 공채 1차 코딩 테스트가 진행되었습니다. 테스트에는 총 7개의 문제가 출제되었으며, 개발 언어는 C++, Java, JavaScript, Kotlin, Python, Swift 총 6가지가 제공되었습니다. 문제는 난이도가 낮은 것부터 높은 순으로 배치하였으며 모든 문제는 테스트 케이스를 모두 통과해야 풀이한 것으로 인정되고 부문 점수는 부여되지 않았습니다. […]', 'link': 'https://tech.kakao.com/2021/01/25/2021-kakao-recruitment-round-1/'}\n",
      "[end] get consumer list\n",
      "Topic: test3, Partition: 0, Offset: 1, Key: None, Value: {'comp': 'kakao', 'title': 'FE개발자의 성장 스토리 06 : 2021년 Chrome의 새로운 변화 – Schemeful same-site을 대응하자', 'date': '2021.02.02', 'text': ' 안녕하세요. FE플랫폼팀 피터입니다 🙂 제가 소속된 FE플랫폼팀에서는 Chrome 업데이트 사항 중 사용자에게 영향을 미치는 기능을 리서치 후 사내 크루들에게 공유하고는 합니다. 이번에는 2021년 1월부터 업데이트되는 Chrome M88에 적용될 Schemeful same-site를 사내 크루들에게 공유하였는데요, Schemeful same-site는 같은 도메인의 HTTP 사이트와 HTTPS 사이트를 cross-site로 취급하도록 정책을 변경한 내용입니다. 관련해서 공식 문서를 통해 리서치한 내용을 공유 드리고자 합니다. […]', 'link': 'https://tech.kakao.com/2021/02/02/frontend-growth-06/'}\n",
      "[end] get consumer list\n",
      "Topic: test3, Partition: 0, Offset: 2, Key: None, Value: {'comp': 'kakao', 'title': '2021 카카오 신입공채 1차 온라인 코딩 테스트 for Tech developers 문제해설', 'date': '2021.01.25', 'text': ' 지난 2020년 9월 12일 토요일 오후 2시부터 7시까지 5시간 동안 2021 카카오 신입 개발자 공채 1차 코딩 테스트가 진행되었습니다. 테스트에는 총 7개의 문제가 출제되었으며, 개발 언어는 C++, Java, JavaScript, Kotlin, Python, Swift 총 6가지가 제공되었습니다. 문제는 난이도가 낮은 것부터 높은 순으로 배치하였으며 모든 문제는 테스트 케이스를 모두 통과해야 풀이한 것으로 인정되고 부문 점수는 부여되지 않았습니다. […]', 'link': 'https://tech.kakao.com/2021/01/25/2021-kakao-recruitment-round-1/'}\n",
      "[end] get consumer list\n",
      "Topic: test3, Partition: 0, Offset: 3, Key: None, Value: {'comp': 'kakao', 'title': '드루와 드루와!! 카카오톡 개발자의 신년대응 스토리', 'date': '2021.02.08', 'text': ' 따듯한 마음을 담아 새해 인사를 나눌 준비를 하는 2020년 12월 31일 늦은 시각, 카카오 판교 오피스에는 초긴장 상태의 카카오톡 개발자들이 있었습니다. 매해 연말마다 진행하는 일이지만 매년 상상할 수 없는 트래픽 폭증으로 새해를 맞이하는 카카오톡 개발자들, 전 국민의 사랑을 받는 서비스인만큼 부담감도 크지만 보다 더 큰 보람과 사명감을 느낍니다. 지난 한 해를 위로하고 새로운 시작을 응원하기 […]', 'link': 'https://tech.kakao.com/2021/02/08/kakaotalk-new-year/'}\n",
      "[end] get consumer list\n",
      "Topic: test3, Partition: 0, Offset: 4, Key: None, Value: {'comp': 'kakao', 'title': 'FE개발자의 성장 스토리 05 : 의존관계를 이용해 구조적 리팩토링 포인트 찾기', 'date': '2021.01.12', 'text': ' 안녕하세요, FE플랫폼팀 frey 입니다. 작년 초부터 카카오 i오픈빌더(이하 오픈빌더)의 Front-end 개발을 담당하고 있습니다. 앵귤러(Angular)를 기반으로 개발된 오픈빌더는 많은 담당자의 손을 거쳐 제작, 운영되어 왔습니다. 오픈빌더 업무를 진행하면서 잘 정리된 여러 문서와 코드 구조를 통해 설계 구조와 의도를 파악할 수 있었지만, 마치 구전동화가 수많은 선조들의 입에서 입으로 전해진 것처럼, 오픈빌더 또한 여러 개발자들의 손과 손을 거쳐 […]', 'link': 'https://tech.kakao.com/2021/01/12/frontend-growth-05/'}\n",
      "[end] get consumer list\n",
      "Topic: test3, Partition: 0, Offset: 5, Key: None, Value: {'comp': 'kakao', 'title': '2021 카카오 신입공채 1차 온라인 코딩 테스트 for Tech developers 문제해설', 'date': '2021.01.25', 'text': ' 지난 2020년 9월 12일 토요일 오후 2시부터 7시까지 5시간 동안 2021 카카오 신입 개발자 공채 1차 코딩 테스트가 진행되었습니다. 테스트에는 총 7개의 문제가 출제되었으며, 개발 언어는 C++, Java, JavaScript, Kotlin, Python, Swift 총 6가지가 제공되었습니다. 문제는 난이도가 낮은 것부터 높은 순으로 배치하였으며 모든 문제는 테스트 케이스를 모두 통과해야 풀이한 것으로 인정되고 부문 점수는 부여되지 않았습니다. […]', 'link': 'https://tech.kakao.com/2021/01/25/2021-kakao-recruitment-round-1/'}\n",
      "[end] get consumer list\n",
      "Topic: test3, Partition: 1, Offset: 0, Key: None, Value: {'comp': 'kakao', 'title': '드루와 드루와!! 카카오톡 개발자의 신년대응 스토리', 'date': '2021.02.08', 'text': ' 따듯한 마음을 담아 새해 인사를 나눌 준비를 하는 2020년 12월 31일 늦은 시각, 카카오 판교 오피스에는 초긴장 상태의 카카오톡 개발자들이 있었습니다. 매해 연말마다 진행하는 일이지만 매년 상상할 수 없는 트래픽 폭증으로 새해를 맞이하는 카카오톡 개발자들, 전 국민의 사랑을 받는 서비스인만큼 부담감도 크지만 보다 더 큰 보람과 사명감을 느낍니다. 지난 한 해를 위로하고 새로운 시작을 응원하기 […]', 'link': 'https://tech.kakao.com/2021/02/08/kakaotalk-new-year/'}\n",
      "[end] get consumer list\n",
      "Topic: test3, Partition: 1, Offset: 1, Key: None, Value: {'comp': 'kakao', 'title': 'FE개발자의 성장 스토리 06 : 2021년 Chrome의 새로운 변화 – Schemeful same-site을 대응하자', 'date': '2021.02.02', 'text': ' 안녕하세요. FE플랫폼팀 피터입니다 🙂 제가 소속된 FE플랫폼팀에서는 Chrome 업데이트 사항 중 사용자에게 영향을 미치는 기능을 리서치 후 사내 크루들에게 공유하고는 합니다. 이번에는 2021년 1월부터 업데이트되는 Chrome M88에 적용될 Schemeful same-site를 사내 크루들에게 공유하였는데요, Schemeful same-site는 같은 도메인의 HTTP 사이트와 HTTPS 사이트를 cross-site로 취급하도록 정책을 변경한 내용입니다. 관련해서 공식 문서를 통해 리서치한 내용을 공유 드리고자 합니다. […]', 'link': 'https://tech.kakao.com/2021/02/02/frontend-growth-06/'}\n",
      "[end] get consumer list\n",
      "Topic: test3, Partition: 1, Offset: 2, Key: None, Value: {'comp': 'kakao', 'title': 'FE개발자의 성장 스토리 05 : 의존관계를 이용해 구조적 리팩토링 포인트 찾기', 'date': '2021.01.12', 'text': ' 안녕하세요, FE플랫폼팀 frey 입니다. 작년 초부터 카카오 i오픈빌더(이하 오픈빌더)의 Front-end 개발을 담당하고 있습니다. 앵귤러(Angular)를 기반으로 개발된 오픈빌더는 많은 담당자의 손을 거쳐 제작, 운영되어 왔습니다. 오픈빌더 업무를 진행하면서 잘 정리된 여러 문서와 코드 구조를 통해 설계 구조와 의도를 파악할 수 있었지만, 마치 구전동화가 수많은 선조들의 입에서 입으로 전해진 것처럼, 오픈빌더 또한 여러 개발자들의 손과 손을 거쳐 […]', 'link': 'https://tech.kakao.com/2021/01/12/frontend-growth-05/'}\n",
      "[end] get consumer list\n",
      "Topic: test3, Partition: 1, Offset: 3, Key: None, Value: {'comp': 'kakao', 'title': 'FE개발자의 성장 스토리 05 : 의존관계를 이용해 구조적 리팩토링 포인트 찾기', 'date': '2021.01.12', 'text': ' 안녕하세요, FE플랫폼팀 frey 입니다. 작년 초부터 카카오 i오픈빌더(이하 오픈빌더)의 Front-end 개발을 담당하고 있습니다. 앵귤러(Angular)를 기반으로 개발된 오픈빌더는 많은 담당자의 손을 거쳐 제작, 운영되어 왔습니다. 오픈빌더 업무를 진행하면서 잘 정리된 여러 문서와 코드 구조를 통해 설계 구조와 의도를 파악할 수 있었지만, 마치 구전동화가 수많은 선조들의 입에서 입으로 전해진 것처럼, 오픈빌더 또한 여러 개발자들의 손과 손을 거쳐 […]', 'link': 'https://tech.kakao.com/2021/01/12/frontend-growth-05/'}\n",
      "[end] get consumer list\n",
      "Topic: test3, Partition: 1, Offset: 4, Key: None, Value: {'comp': 'kakao', 'title': 'FE개발자의 성장 스토리 06 : 2021년 Chrome의 새로운 변화 – Schemeful same-site을 대응하자', 'date': '2021.02.02', 'text': ' 안녕하세요. FE플랫폼팀 피터입니다 🙂 제가 소속된 FE플랫폼팀에서는 Chrome 업데이트 사항 중 사용자에게 영향을 미치는 기능을 리서치 후 사내 크루들에게 공유하고는 합니다. 이번에는 2021년 1월부터 업데이트되는 Chrome M88에 적용될 Schemeful same-site를 사내 크루들에게 공유하였는데요, Schemeful same-site는 같은 도메인의 HTTP 사이트와 HTTPS 사이트를 cross-site로 취급하도록 정책을 변경한 내용입니다. 관련해서 공식 문서를 통해 리서치한 내용을 공유 드리고자 합니다. […]', 'link': 'https://tech.kakao.com/2021/02/02/frontend-growth-06/'}\n",
      "[end] get consumer list\n",
      "Topic: test3, Partition: 1, Offset: 5, Key: None, Value: {'comp': 'kakao', 'title': '드루와 드루와!! 카카오톡 개발자의 신년대응 스토리', 'date': '2021.02.08', 'text': ' 따듯한 마음을 담아 새해 인사를 나눌 준비를 하는 2020년 12월 31일 늦은 시각, 카카오 판교 오피스에는 초긴장 상태의 카카오톡 개발자들이 있었습니다. 매해 연말마다 진행하는 일이지만 매년 상상할 수 없는 트래픽 폭증으로 새해를 맞이하는 카카오톡 개발자들, 전 국민의 사랑을 받는 서비스인만큼 부담감도 크지만 보다 더 큰 보람과 사명감을 느낍니다. 지난 한 해를 위로하고 새로운 시작을 응원하기 […]', 'link': 'https://tech.kakao.com/2021/02/08/kakaotalk-new-year/'}\n",
      "[end] get consumer list\n",
      "Topic: test3, Partition: 1, Offset: 6, Key: None, Value: {'comp': 'kakao', 'title': 'FE개발자의 성장 스토리 06 : 2021년 Chrome의 새로운 변화 – Schemeful same-site을 대응하자', 'date': '2021.02.02', 'text': ' 안녕하세요. FE플랫폼팀 피터입니다 🙂 제가 소속된 FE플랫폼팀에서는 Chrome 업데이트 사항 중 사용자에게 영향을 미치는 기능을 리서치 후 사내 크루들에게 공유하고는 합니다. 이번에는 2021년 1월부터 업데이트되는 Chrome M88에 적용될 Schemeful same-site를 사내 크루들에게 공유하였는데요, Schemeful same-site는 같은 도메인의 HTTP 사이트와 HTTPS 사이트를 cross-site로 취급하도록 정책을 변경한 내용입니다. 관련해서 공식 문서를 통해 리서치한 내용을 공유 드리고자 합니다. […]', 'link': 'https://tech.kakao.com/2021/02/02/frontend-growth-06/'}\n",
      "[end] get consumer list\n",
      "Topic: test3, Partition: 1, Offset: 7, Key: None, Value: {'comp': 'kakao', 'title': 'FE개발자의 성장 스토리 05 : 의존관계를 이용해 구조적 리팩토링 포인트 찾기', 'date': '2021.01.12', 'text': ' 안녕하세요, FE플랫폼팀 frey 입니다. 작년 초부터 카카오 i오픈빌더(이하 오픈빌더)의 Front-end 개발을 담당하고 있습니다. 앵귤러(Angular)를 기반으로 개발된 오픈빌더는 많은 담당자의 손을 거쳐 제작, 운영되어 왔습니다. 오픈빌더 업무를 진행하면서 잘 정리된 여러 문서와 코드 구조를 통해 설계 구조와 의도를 파악할 수 있었지만, 마치 구전동화가 수많은 선조들의 입에서 입으로 전해진 것처럼, 오픈빌더 또한 여러 개발자들의 손과 손을 거쳐 […]', 'link': 'https://tech.kakao.com/2021/01/12/frontend-growth-05/'}\n",
      "[end] get consumer list\n",
      "Topic: test3, Partition: 2, Offset: 0, Key: None, Value: {'comp': 'kakao', 'title': '증오발언 근절을 위한 카카오의 원칙', 'date': '2021.01.18', 'text': ' 이 글은\\xa0증오발언 근절을 위한 카카오의 원칙 이라는 이름으로 카카오 정책산업 연구 브런치에 동시에 개제되었습니다. 1. 원칙 수립 배경과 원칙 내용 카카오는 ‘기술과 사람으로 더 나은 세상을 만들겠다’는 비전으로 ‘기업의 디지털 책임(CDR, Corporate Digital Responsibility)’ 실천 방안을 고민하고 있습니다.\\xa0 온라인\\xa0증오발언이 사회적 문제로 부상함에 따라 그 대응책을 마련할\\xa0필요성에 대해 국내외\\xa0공감대가 넓어지고 있습니다. 카카오 역시 사회의 구성원으로서,\\xa0디지털 공간을 […]', 'link': 'https://tech.kakao.com/2021/01/18/%ec%a6%9d%ec%98%a4%eb%b0%9c%ec%96%b8-%ea%b7%bc%ec%a0%88%ec%9d%84-%ec%9c%84%ed%95%9c-%ec%b9%b4%ec%b9%b4%ec%98%a4%ec%9d%98-%ec%9b%90%ec%b9%99/'}\n",
      "[end] get consumer list\n",
      "Topic: test3, Partition: 2, Offset: 1, Key: None, Value: {'comp': 'kakao', 'title': '드루와 드루와!! 카카오톡 개발자의 신년대응 스토리', 'date': '2021.02.08', 'text': ' 따듯한 마음을 담아 새해 인사를 나눌 준비를 하는 2020년 12월 31일 늦은 시각, 카카오 판교 오피스에는 초긴장 상태의 카카오톡 개발자들이 있었습니다. 매해 연말마다 진행하는 일이지만 매년 상상할 수 없는 트래픽 폭증으로 새해를 맞이하는 카카오톡 개발자들, 전 국민의 사랑을 받는 서비스인만큼 부담감도 크지만 보다 더 큰 보람과 사명감을 느낍니다. 지난 한 해를 위로하고 새로운 시작을 응원하기 […]', 'link': 'https://tech.kakao.com/2021/02/08/kakaotalk-new-year/'}\n",
      "[end] get consumer list\n",
      "Topic: test3, Partition: 2, Offset: 2, Key: None, Value: {'comp': 'kakao', 'title': '증오발언 근절을 위한 카카오의 원칙', 'date': '2021.01.18', 'text': ' 이 글은\\xa0증오발언 근절을 위한 카카오의 원칙 이라는 이름으로 카카오 정책산업 연구 브런치에 동시에 개제되었습니다. 1. 원칙 수립 배경과 원칙 내용 카카오는 ‘기술과 사람으로 더 나은 세상을 만들겠다’는 비전으로 ‘기업의 디지털 책임(CDR, Corporate Digital Responsibility)’ 실천 방안을 고민하고 있습니다.\\xa0 온라인\\xa0증오발언이 사회적 문제로 부상함에 따라 그 대응책을 마련할\\xa0필요성에 대해 국내외\\xa0공감대가 넓어지고 있습니다. 카카오 역시 사회의 구성원으로서,\\xa0디지털 공간을 […]', 'link': 'https://tech.kakao.com/2021/01/18/%ec%a6%9d%ec%98%a4%eb%b0%9c%ec%96%b8-%ea%b7%bc%ec%a0%88%ec%9d%84-%ec%9c%84%ed%95%9c-%ec%b9%b4%ec%b9%b4%ec%98%a4%ec%9d%98-%ec%9b%90%ec%b9%99/'}\n",
      "[end] get consumer list\n",
      "Topic: test3, Partition: 2, Offset: 3, Key: None, Value: {'comp': 'kakao', 'title': '2021 카카오 신입공채 1차 온라인 코딩 테스트 for Tech developers 문제해설', 'date': '2021.01.25', 'text': ' 지난 2020년 9월 12일 토요일 오후 2시부터 7시까지 5시간 동안 2021 카카오 신입 개발자 공채 1차 코딩 테스트가 진행되었습니다. 테스트에는 총 7개의 문제가 출제되었으며, 개발 언어는 C++, Java, JavaScript, Kotlin, Python, Swift 총 6가지가 제공되었습니다. 문제는 난이도가 낮은 것부터 높은 순으로 배치하였으며 모든 문제는 테스트 케이스를 모두 통과해야 풀이한 것으로 인정되고 부문 점수는 부여되지 않았습니다. […]', 'link': 'https://tech.kakao.com/2021/01/25/2021-kakao-recruitment-round-1/'}\n",
      "[end] get consumer list\n",
      "Topic: test3, Partition: 2, Offset: 4, Key: None, Value: {'comp': 'kakao', 'title': '증오발언 근절을 위한 카카오의 원칙', 'date': '2021.01.18', 'text': ' 이 글은\\xa0증오발언 근절을 위한 카카오의 원칙 이라는 이름으로 카카오 정책산업 연구 브런치에 동시에 개제되었습니다. 1. 원칙 수립 배경과 원칙 내용 카카오는 ‘기술과 사람으로 더 나은 세상을 만들겠다’는 비전으로 ‘기업의 디지털 책임(CDR, Corporate Digital Responsibility)’ 실천 방안을 고민하고 있습니다.\\xa0 온라인\\xa0증오발언이 사회적 문제로 부상함에 따라 그 대응책을 마련할\\xa0필요성에 대해 국내외\\xa0공감대가 넓어지고 있습니다. 카카오 역시 사회의 구성원으로서,\\xa0디지털 공간을 […]', 'link': 'https://tech.kakao.com/2021/01/18/%ec%a6%9d%ec%98%a4%eb%b0%9c%ec%96%b8-%ea%b7%bc%ec%a0%88%ec%9d%84-%ec%9c%84%ed%95%9c-%ec%b9%b4%ec%b9%b4%ec%98%a4%ec%9d%98-%ec%9b%90%ec%b9%99/'}\n",
      "[end] get consumer list\n",
      "Topic: test3, Partition: 2, Offset: 5, Key: None, Value: {'comp': 'kakao', 'title': '드루와 드루와!! 카카오톡 개발자의 신년대응 스토리', 'date': '2021.02.08', 'text': ' 따듯한 마음을 담아 새해 인사를 나눌 준비를 하는 2020년 12월 31일 늦은 시각, 카카오 판교 오피스에는 초긴장 상태의 카카오톡 개발자들이 있었습니다. 매해 연말마다 진행하는 일이지만 매년 상상할 수 없는 트래픽 폭증으로 새해를 맞이하는 카카오톡 개발자들, 전 국민의 사랑을 받는 서비스인만큼 부담감도 크지만 보다 더 큰 보람과 사명감을 느낍니다. 지난 한 해를 위로하고 새로운 시작을 응원하기 […]', 'link': 'https://tech.kakao.com/2021/02/08/kakaotalk-new-year/'}\n",
      "[end] get consumer list\n",
      "Topic: test3, Partition: 2, Offset: 6, Key: None, Value: {'comp': 'kakao', 'title': 'FE개발자의 성장 스토리 06 : 2021년 Chrome의 새로운 변화 – Schemeful same-site을 대응하자', 'date': '2021.02.02', 'text': ' 안녕하세요. FE플랫폼팀 피터입니다 🙂 제가 소속된 FE플랫폼팀에서는 Chrome 업데이트 사항 중 사용자에게 영향을 미치는 기능을 리서치 후 사내 크루들에게 공유하고는 합니다. 이번에는 2021년 1월부터 업데이트되는 Chrome M88에 적용될 Schemeful same-site를 사내 크루들에게 공유하였는데요, Schemeful same-site는 같은 도메인의 HTTP 사이트와 HTTPS 사이트를 cross-site로 취급하도록 정책을 변경한 내용입니다. 관련해서 공식 문서를 통해 리서치한 내용을 공유 드리고자 합니다. […]', 'link': 'https://tech.kakao.com/2021/02/02/frontend-growth-06/'}\n",
      "[end] get consumer list\n",
      "Topic: test3, Partition: 2, Offset: 7, Key: None, Value: {'comp': 'kakao', 'title': '증오발언 근절을 위한 카카오의 원칙', 'date': '2021.01.18', 'text': ' 이 글은\\xa0증오발언 근절을 위한 카카오의 원칙 이라는 이름으로 카카오 정책산업 연구 브런치에 동시에 개제되었습니다. 1. 원칙 수립 배경과 원칙 내용 카카오는 ‘기술과 사람으로 더 나은 세상을 만들겠다’는 비전으로 ‘기업의 디지털 책임(CDR, Corporate Digital Responsibility)’ 실천 방안을 고민하고 있습니다.\\xa0 온라인\\xa0증오발언이 사회적 문제로 부상함에 따라 그 대응책을 마련할\\xa0필요성에 대해 국내외\\xa0공감대가 넓어지고 있습니다. 카카오 역시 사회의 구성원으로서,\\xa0디지털 공간을 […]', 'link': 'https://tech.kakao.com/2021/01/18/%ec%a6%9d%ec%98%a4%eb%b0%9c%ec%96%b8-%ea%b7%bc%ec%a0%88%ec%9d%84-%ec%9c%84%ed%95%9c-%ec%b9%b4%ec%b9%b4%ec%98%a4%ec%9d%98-%ec%9b%90%ec%b9%99/'}\n",
      "[end] get consumer list\n",
      "Topic: test3, Partition: 2, Offset: 8, Key: None, Value: {'comp': 'kakao', 'title': 'FE개발자의 성장 스토리 05 : 의존관계를 이용해 구조적 리팩토링 포인트 찾기', 'date': '2021.01.12', 'text': ' 안녕하세요, FE플랫폼팀 frey 입니다. 작년 초부터 카카오 i오픈빌더(이하 오픈빌더)의 Front-end 개발을 담당하고 있습니다. 앵귤러(Angular)를 기반으로 개발된 오픈빌더는 많은 담당자의 손을 거쳐 제작, 운영되어 왔습니다. 오픈빌더 업무를 진행하면서 잘 정리된 여러 문서와 코드 구조를 통해 설계 구조와 의도를 파악할 수 있었지만, 마치 구전동화가 수많은 선조들의 입에서 입으로 전해진 것처럼, 오픈빌더 또한 여러 개발자들의 손과 손을 거쳐 […]', 'link': 'https://tech.kakao.com/2021/01/12/frontend-growth-05/'}\n",
      "[end] get consumer list\n",
      "Topic: test3, Partition: 2, Offset: 9, Key: None, Value: {'comp': 'kakao', 'title': '2021 카카오 신입공채 1차 온라인 코딩 테스트 for Tech developers 문제해설', 'date': '2021.01.25', 'text': ' 지난 2020년 9월 12일 토요일 오후 2시부터 7시까지 5시간 동안 2021 카카오 신입 개발자 공채 1차 코딩 테스트가 진행되었습니다. 테스트에는 총 7개의 문제가 출제되었으며, 개발 언어는 C++, Java, JavaScript, Kotlin, Python, Swift 총 6가지가 제공되었습니다. 문제는 난이도가 낮은 것부터 높은 순으로 배치하였으며 모든 문제는 테스트 케이스를 모두 통과해야 풀이한 것으로 인정되고 부문 점수는 부여되지 않았습니다. […]', 'link': 'https://tech.kakao.com/2021/01/25/2021-kakao-recruitment-round-1/'}\n",
      "[end] get consumer list\n",
      "Topic: test3, Partition: 2, Offset: 10, Key: None, Value: {'comp': 'kakao', 'title': '증오발언 근절을 위한 카카오의 원칙', 'date': '2021.01.18', 'text': ' 이 글은\\xa0증오발언 근절을 위한 카카오의 원칙 이라는 이름으로 카카오 정책산업 연구 브런치에 동시에 개제되었습니다. 1. 원칙 수립 배경과 원칙 내용 카카오는 ‘기술과 사람으로 더 나은 세상을 만들겠다’는 비전으로 ‘기업의 디지털 책임(CDR, Corporate Digital Responsibility)’ 실천 방안을 고민하고 있습니다.\\xa0 온라인\\xa0증오발언이 사회적 문제로 부상함에 따라 그 대응책을 마련할\\xa0필요성에 대해 국내외\\xa0공감대가 넓어지고 있습니다. 카카오 역시 사회의 구성원으로서,\\xa0디지털 공간을 […]', 'link': 'https://tech.kakao.com/2021/01/18/%ec%a6%9d%ec%98%a4%eb%b0%9c%ec%96%b8-%ea%b7%bc%ec%a0%88%ec%9d%84-%ec%9c%84%ed%95%9c-%ec%b9%b4%ec%b9%b4%ec%98%a4%ec%9d%98-%ec%9b%90%ec%b9%99/'}\n",
      "[end] get consumer list\n"
     ]
    }
   ],
   "source": [
    "from kafka import KafkaConsumer \n",
    "from json import loads \n",
    "\n",
    "# topic, broker list \n",
    "consumer = KafkaConsumer( 'test3', bootstrap_servers=['3.87.162.90:9092'], auto_offset_reset='earliest', \n",
    "                         enable_auto_commit=True, group_id='my-group2', \n",
    "                         value_deserializer=lambda x: loads(x.decode('utf-8')), consumer_timeout_ms=100000 ) \n",
    "\n",
    "# consumer list를 가져온다 \n",
    "print('[begin] get consumer list') \n",
    "for message in consumer: \n",
    "    print(\"Topic: %s, Partition: %d, Offset: %d, Key: %s, Value: %s\" % ( message.topic, message.partition, message.offset, message.key, message.value )) \n",
    "    print('[end] get consumer list')\n"
   ]
  },
  {
   "cell_type": "code",
   "execution_count": null,
   "metadata": {},
   "outputs": [],
   "source": []
  }
 ],
 "metadata": {
  "kernelspec": {
   "display_name": "Python 3",
   "language": "python",
   "name": "python3"
  },
  "language_info": {
   "codemirror_mode": {
    "name": "ipython",
    "version": 3
   },
   "file_extension": ".py",
   "mimetype": "text/x-python",
   "name": "python",
   "nbconvert_exporter": "python",
   "pygments_lexer": "ipython3",
   "version": "3.7.4"
  },
  "toc": {
   "base_numbering": 1,
   "nav_menu": {},
   "number_sections": false,
   "sideBar": true,
   "skip_h1_title": false,
   "title_cell": "Table of Contents",
   "title_sidebar": "Contents",
   "toc_cell": false,
   "toc_position": {},
   "toc_section_display": true,
   "toc_window_display": false
  }
 },
 "nbformat": 4,
 "nbformat_minor": 2
}
